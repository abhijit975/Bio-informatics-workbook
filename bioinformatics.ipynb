{
 "cells": [
  {
   "cell_type": "markdown",
   "id": "462bcc45",
   "metadata": {},
   "source": [
    "## Finding the k-mer with highest frequency with at most d mismatch and reverse component"
   ]
  },
  {
   "cell_type": "code",
   "execution_count": 1,
   "id": "f04a0b81",
   "metadata": {},
   "outputs": [],
   "source": [
    "import numpy as np"
   ]
  },
  {
   "cell_type": "code",
   "execution_count": 5,
   "id": "bb94baa7",
   "metadata": {},
   "outputs": [],
   "source": [
    "pattern = 'ATTGC'\n",
    "blocks = ['A','T','G','C']"
   ]
  },
  {
   "cell_type": "code",
   "execution_count": 9,
   "id": "8bfc5242",
   "metadata": {},
   "outputs": [],
   "source": [
    "def ImmediateNeighbors(inp):\n",
    "    neighborhood = []\n",
    "    for i in range (len(inp)):\n",
    "        inp_list = list(inp)\n",
    "        symbol = inp[i]\n",
    "        for j in range(4):\n",
    "            if symbol != blocks[j]:\n",
    "                inp_list[i] = blocks[j]\n",
    "                neighborhood.append(\"\".join(inp_list))\n",
    "    return neighborhood"
   ]
  },
  {
   "cell_type": "code",
   "execution_count": 10,
   "id": "f66ec35d",
   "metadata": {},
   "outputs": [
    {
     "data": {
      "text/plain": [
       "['TTTGC',\n",
       " 'GTTGC',\n",
       " 'CTTGC',\n",
       " 'AATGC',\n",
       " 'AGTGC',\n",
       " 'ACTGC',\n",
       " 'ATAGC',\n",
       " 'ATGGC',\n",
       " 'ATCGC',\n",
       " 'ATTAC',\n",
       " 'ATTTC',\n",
       " 'ATTCC',\n",
       " 'ATTGA',\n",
       " 'ATTGT',\n",
       " 'ATTGG']"
      ]
     },
     "execution_count": 10,
     "metadata": {},
     "output_type": "execute_result"
    }
   ],
   "source": [
    "ImmediateNeighbors(pattern)"
   ]
  },
  {
   "cell_type": "code",
   "execution_count": 11,
   "id": "42efad00",
   "metadata": {},
   "outputs": [],
   "source": [
    "def Suffix(inp):\n",
    "    return inp[1:]"
   ]
  },
  {
   "cell_type": "code",
   "execution_count": 12,
   "id": "10d0ee1a",
   "metadata": {},
   "outputs": [
    {
     "data": {
      "text/plain": [
       "'TTGC'"
      ]
     },
     "execution_count": 12,
     "metadata": {},
     "output_type": "execute_result"
    }
   ],
   "source": [
    "Suffix(pattern)"
   ]
  },
  {
   "cell_type": "code",
   "execution_count": 17,
   "id": "72ca9dfa",
   "metadata": {},
   "outputs": [],
   "source": [
    "def HammingDistance(inp1,inp2):\n",
    "    count = 0\n",
    "    if len(inp1)!=len(inp2):\n",
    "        return 'Length of sequence error'\n",
    "    for i in range(len(inp1)):\n",
    "        if inp1[i]!=inp2[i]:\n",
    "            count += 1\n",
    "    return count"
   ]
  },
  {
   "cell_type": "code",
   "execution_count": 20,
   "id": "d24dab02",
   "metadata": {},
   "outputs": [],
   "source": [
    "def Neighbors(inp,d):\n",
    "    if d == 0:\n",
    "        return inp\n",
    "    if len(inp)==1:\n",
    "        return blocks\n",
    "    Neighborhood = []\n",
    "    suffix_neighbors = Neighbors(Suffix(inp),d)\n",
    "    for text in suffix_neighbors:\n",
    "        text_list = list(text)\n",
    "        if HammingDistance(Suffix(inp),text)<d:\n",
    "            for j in blocks:\n",
    "                new_text = [j]+text_list\n",
    "                Neighborhood.append(\"\".join(new_text))\n",
    "        else:\n",
    "            new_text = [inp[0]] + text_list\n",
    "            Neighborhood.append(\"\".join(new_text))\n",
    "        \n",
    "    return Neighborhood\n",
    "            "
   ]
  },
  {
   "cell_type": "code",
   "execution_count": 24,
   "id": "95225e96",
   "metadata": {},
   "outputs": [
    {
     "data": {
      "text/plain": [
       "'ACA ACT AAG ATG AGG ACG TCG GCG CCG ACC'"
      ]
     },
     "execution_count": 24,
     "metadata": {},
     "output_type": "execute_result"
    }
   ],
   "source": [
    "' '.join(Neighbors('ACG',1))"
   ]
  },
  {
   "cell_type": "code",
   "execution_count": 55,
   "id": "0d90d50f",
   "metadata": {},
   "outputs": [],
   "source": [
    "def FrWMismatch(text,k,d):\n",
    "    Patterns = []\n",
    "    freqMap = dict()\n",
    "    n = len(text)\n",
    "    for i in range(n-k+1):\n",
    "        pattern = text[i:i+k]\n",
    "        neighborhood = Neighbors(pattern,d)\n",
    "        lenN = len(neighborhood)\n",
    "        for j in range(lenN):\n",
    "            neighbor = neighborhood[j]\n",
    "            if neighbor in freqMap:\n",
    "                freqMap[neighbor] += 1\n",
    "            else:\n",
    "                freqMap[neighbor] = 1\n",
    "    m = MaxMap(freqMap)\n",
    "    for key in freqMap.keys():\n",
    "        if freqMap[key] == m:\n",
    "            Patterns.append(key)\n",
    "    return Patterns"
   ]
  },
  {
   "cell_type": "code",
   "execution_count": 53,
   "id": "e761155b",
   "metadata": {},
   "outputs": [],
   "source": [
    "def MaxMap(dictionary):\n",
    "    return max(dictionary.values())"
   ]
  },
  {
   "cell_type": "code",
   "execution_count": 56,
   "id": "a36105de",
   "metadata": {},
   "outputs": [],
   "source": [
    "text='CCTGCTCCTGCTGCTAACGCCTCCTGATAACGCCTGCTGCTGATGATGCTGATGCGGATCCTGATGATAACGGATGATGATGATGCGCCTGCGGCGGATGCTGATAACGGCGAACGGCGAACGAACGGATCCTCCTGCGGCGAACGCCTGCTGATGATCCTGATGCTCCTGCTGCGCCTGATCCTCCTGATGCGGCGGCGGCGAACGGATGCGGCGCCTCCTGATCCTCCTGCGGATCCTAACGCCTCCTCCTCCTGCTGCTCCTGATGATCCTGCTGATGCTGCTGCTGATCCTGATAACGGCTGCTGATAACGGCTGCGAACGGCTGCTGATGCT'"
   ]
  },
  {
   "cell_type": "code",
   "execution_count": 57,
   "id": "e5751663",
   "metadata": {},
   "outputs": [
    {
     "data": {
      "text/plain": [
       "['CCCGT', 'GCCCG']"
      ]
     },
     "execution_count": 57,
     "metadata": {},
     "output_type": "execute_result"
    }
   ],
   "source": [
    "FrWMismatch(text,5,3)"
   ]
  },
  {
   "cell_type": "code",
   "execution_count": 92,
   "id": "7c6e19ef",
   "metadata": {},
   "outputs": [],
   "source": [
    "def rev_text(pat):\n",
    "    bondpair = {'A':'T','T':'A','G':'C','C':'G'}\n",
    "    pat_list = list(pat)[::-1]\n",
    "    for i in range(len(pat)):\n",
    "        pat_list[i] = bondpair[pat_list[i]]\n",
    "    return ''.join(pat_list)"
   ]
  },
  {
   "cell_type": "code",
   "execution_count": 93,
   "id": "20424d1b",
   "metadata": {},
   "outputs": [
    {
     "data": {
      "text/plain": [
       "'ACGTC'"
      ]
     },
     "execution_count": 93,
     "metadata": {},
     "output_type": "execute_result"
    }
   ],
   "source": [
    "rev_text('GACGT')"
   ]
  },
  {
   "cell_type": "code",
   "execution_count": 100,
   "id": "adbca788",
   "metadata": {},
   "outputs": [],
   "source": [
    "def FrWMismatchRc(text,k,d):\n",
    "    Patterns = []\n",
    "    freqMap = dict()\n",
    "    n = len(text)\n",
    "    for i in range(n-k+1):\n",
    "        pattern = text[i:i+k]\n",
    "        rev_pattern = rev_text(pattern)\n",
    "        neighborhood = Neighbors(pattern,d)\n",
    "        rev_neighborhood = Neighbors(rev_pattern,d)\n",
    "        #tot_neighborhood = list(set(neighborhood).union(set(rev_neighborhood)))\n",
    "        tot_neighborhood = neighborhood + rev_neighborhood\n",
    "        lenN = len(tot_neighborhood)\n",
    "        for j in range(lenN):\n",
    "            neighbor = tot_neighborhood[j]\n",
    "            if neighbor in freqMap:\n",
    "                freqMap[neighbor] += 1\n",
    "            else:\n",
    "                freqMap[neighbor] = 1\n",
    "    #m = MaxMap(freqMap)\n",
    "    #for key in freqMap.keys():\n",
    "     #   if rev_text(key) in freqMap.keys():\n",
    "      #      freqMap[key] = freqMap[key] + freqMap[rev_text(key)]\n",
    "    m = MaxMap(freqMap)\n",
    "    for key in freqMap.keys():\n",
    "        if freqMap[key] == m:\n",
    "            Patterns.append(key)\n",
    "    return Patterns,m"
   ]
  },
  {
   "cell_type": "code",
   "execution_count": 101,
   "id": "18e02ff2",
   "metadata": {},
   "outputs": [
    {
     "data": {
      "text/plain": [
       "(['ACAT', 'ATGT'], 9)"
      ]
     },
     "execution_count": 101,
     "metadata": {},
     "output_type": "execute_result"
    }
   ],
   "source": [
    "FrWMismatchRc('ACGTTGCATGTCGCATGATGCATGAGAGCT',4,1)"
   ]
  },
  {
   "cell_type": "code",
   "execution_count": 96,
   "id": "7d8593dc",
   "metadata": {},
   "outputs": [],
   "source": [
    "text = 'AGGTGAGGGTGGTGGGTGTGAGGAGGAGGAGGAGGGTGGTGGTGCTAGGGTGGTGGTGTGGGGTGGTGAGGCTAGGCTTGCTGGTGGGGGCTAGGCTAGGAGGGGGGCTGTGCTAGGTGGTGCTGGAGGGGTGTGTGTGCTAGGCTGGGGGGGGCTTGAGGTGGTGCTTGGGAGGCTGGGGCTGTGCTTGAGGCTAGGAGGCTGGGGAGGTGGGTGCTGGTGAGGAGGAGGTGGGGTGGGTGCTGG'"
   ]
  },
  {
   "cell_type": "code",
   "execution_count": 97,
   "id": "cab70416",
   "metadata": {},
   "outputs": [
    {
     "data": {
      "text/plain": [
       "(['GGGGGG', 'CCCCCC'], 133)"
      ]
     },
     "execution_count": 97,
     "metadata": {},
     "output_type": "execute_result"
    }
   ],
   "source": [
    "FrWMismatchRc(text,6,2)"
   ]
  },
  {
   "cell_type": "code",
   "execution_count": null,
   "id": "6b8e0dd1",
   "metadata": {},
   "outputs": [],
   "source": []
  }
 ],
 "metadata": {
  "kernelspec": {
   "display_name": "Python 3 (ipykernel)",
   "language": "python",
   "name": "python3"
  },
  "language_info": {
   "codemirror_mode": {
    "name": "ipython",
    "version": 3
   },
   "file_extension": ".py",
   "mimetype": "text/x-python",
   "name": "python",
   "nbconvert_exporter": "python",
   "pygments_lexer": "ipython3",
   "version": "3.11.1"
  }
 },
 "nbformat": 4,
 "nbformat_minor": 5
}
